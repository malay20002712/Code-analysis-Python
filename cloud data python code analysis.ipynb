{
 "cells": [
  {
   "cell_type": "code",
   "execution_count": 1,
   "id": "b63fc117",
   "metadata": {},
   "outputs": [],
   "source": [
    "import numpy as np\n",
    "import pandas as pd\n",
    "import matplotlib.pyplot as plt\n",
    "import statistics as st\n",
    "import seaborn as sns"
   ]
  },
  {
   "cell_type": "code",
   "execution_count": 6,
   "id": "e4fa3e84",
   "metadata": {},
   "outputs": [
    {
     "data": {
      "text/html": [
       "<div>\n",
       "<style scoped>\n",
       "    .dataframe tbody tr th:only-of-type {\n",
       "        vertical-align: middle;\n",
       "    }\n",
       "\n",
       "    .dataframe tbody tr th {\n",
       "        vertical-align: top;\n",
       "    }\n",
       "\n",
       "    .dataframe thead th {\n",
       "        text-align: right;\n",
       "    }\n",
       "</style>\n",
       "<table border=\"1\" class=\"dataframe\">\n",
       "  <thead>\n",
       "    <tr style=\"text-align: right;\">\n",
       "      <th></th>\n",
       "      <th>id</th>\n",
       "      <th>type</th>\n",
       "      <th>app</th>\n",
       "      <th>module</th>\n",
       "      <th>message</th>\n",
       "      <th>DES</th>\n",
       "      <th>DES.1</th>\n",
       "      <th>TOPO</th>\n",
       "      <th>TOPO.1</th>\n",
       "      <th>module.1</th>\n",
       "      <th>service</th>\n",
       "      <th>time_in</th>\n",
       "      <th>time_out</th>\n",
       "      <th>time_emit</th>\n",
       "      <th>time_reception</th>\n",
       "    </tr>\n",
       "  </thead>\n",
       "  <tbody>\n",
       "    <tr>\n",
       "      <th>0</th>\n",
       "      <td>NaN</td>\n",
       "      <td>NaN</td>\n",
       "      <td>NaN</td>\n",
       "      <td>NaN</td>\n",
       "      <td>NaN</td>\n",
       "      <td>NaN</td>\n",
       "      <td>NaN</td>\n",
       "      <td>NaN</td>\n",
       "      <td>NaN</td>\n",
       "      <td>NaN</td>\n",
       "      <td>NaN</td>\n",
       "      <td>NaN</td>\n",
       "      <td>NaN</td>\n",
       "      <td>NaN</td>\n",
       "      <td>NaN</td>\n",
       "    </tr>\n",
       "    <tr>\n",
       "      <th>1</th>\n",
       "      <td>3.0</td>\n",
       "      <td>COMP_M</td>\n",
       "      <td>who_may_not_be_named</td>\n",
       "      <td>Mod1</td>\n",
       "      <td>M.sens</td>\n",
       "      <td>2.0</td>\n",
       "      <td>6.0</td>\n",
       "      <td>3.0</td>\n",
       "      <td>0.0</td>\n",
       "      <td>Sensor</td>\n",
       "      <td>125.0</td>\n",
       "      <td>201.000244</td>\n",
       "      <td>326.000244</td>\n",
       "      <td>1.0</td>\n",
       "      <td>201.000244</td>\n",
       "    </tr>\n",
       "    <tr>\n",
       "      <th>2</th>\n",
       "      <td>NaN</td>\n",
       "      <td>NaN</td>\n",
       "      <td>NaN</td>\n",
       "      <td>NaN</td>\n",
       "      <td>NaN</td>\n",
       "      <td>NaN</td>\n",
       "      <td>NaN</td>\n",
       "      <td>NaN</td>\n",
       "      <td>NaN</td>\n",
       "      <td>NaN</td>\n",
       "      <td>NaN</td>\n",
       "      <td>NaN</td>\n",
       "      <td>NaN</td>\n",
       "      <td>NaN</td>\n",
       "      <td>NaN</td>\n",
       "    </tr>\n",
       "    <tr>\n",
       "      <th>3</th>\n",
       "      <td>1.0</td>\n",
       "      <td>COMP_M</td>\n",
       "      <td>who_may_not_be_named</td>\n",
       "      <td>Mod1</td>\n",
       "      <td>M.sens</td>\n",
       "      <td>0.0</td>\n",
       "      <td>6.0</td>\n",
       "      <td>1.0</td>\n",
       "      <td>0.0</td>\n",
       "      <td>Sensor</td>\n",
       "      <td>125.0</td>\n",
       "      <td>326.000244</td>\n",
       "      <td>451.000244</td>\n",
       "      <td>1.0</td>\n",
       "      <td>201.000426</td>\n",
       "    </tr>\n",
       "    <tr>\n",
       "      <th>4</th>\n",
       "      <td>NaN</td>\n",
       "      <td>NaN</td>\n",
       "      <td>NaN</td>\n",
       "      <td>NaN</td>\n",
       "      <td>NaN</td>\n",
       "      <td>NaN</td>\n",
       "      <td>NaN</td>\n",
       "      <td>NaN</td>\n",
       "      <td>NaN</td>\n",
       "      <td>NaN</td>\n",
       "      <td>NaN</td>\n",
       "      <td>NaN</td>\n",
       "      <td>NaN</td>\n",
       "      <td>NaN</td>\n",
       "      <td>NaN</td>\n",
       "    </tr>\n",
       "  </tbody>\n",
       "</table>\n",
       "</div>"
      ],
      "text/plain": [
       "    id    type                   app module message  DES  DES.1  TOPO  TOPO.1  \\\n",
       "0  NaN     NaN                   NaN    NaN     NaN  NaN    NaN   NaN     NaN   \n",
       "1  3.0  COMP_M  who_may_not_be_named   Mod1  M.sens  2.0    6.0   3.0     0.0   \n",
       "2  NaN     NaN                   NaN    NaN     NaN  NaN    NaN   NaN     NaN   \n",
       "3  1.0  COMP_M  who_may_not_be_named   Mod1  M.sens  0.0    6.0   1.0     0.0   \n",
       "4  NaN     NaN                   NaN    NaN     NaN  NaN    NaN   NaN     NaN   \n",
       "\n",
       "  module.1  service     time_in    time_out  time_emit  time_reception  \n",
       "0      NaN      NaN         NaN         NaN        NaN             NaN  \n",
       "1   Sensor    125.0  201.000244  326.000244        1.0      201.000244  \n",
       "2      NaN      NaN         NaN         NaN        NaN             NaN  \n",
       "3   Sensor    125.0  326.000244  451.000244        1.0      201.000426  \n",
       "4      NaN      NaN         NaN         NaN        NaN             NaN  "
      ]
     },
     "execution_count": 6,
     "metadata": {},
     "output_type": "execute_result"
    }
   ],
   "source": [
    "placement_data = pd.read_csv('C:\\\\Users\\\\DELL\\\\Desktop\\\\NIT research\\\\pythonsim\\\\python sim\\\\cloud\\\\Results.csv')\n",
    "placement_data.head()"
   ]
  },
  {
   "cell_type": "markdown",
   "id": "b1803ad3",
   "metadata": {},
   "source": [
    "# informative data"
   ]
  },
  {
   "cell_type": "code",
   "execution_count": 20,
   "id": "b88391be",
   "metadata": {},
   "outputs": [
    {
     "name": "stdout",
     "output_type": "stream",
     "text": [
      "<class 'pandas.core.frame.DataFrame'>\n",
      "RangeIndex: 12 entries, 0 to 11\n",
      "Data columns (total 15 columns):\n",
      " #   Column          Non-Null Count  Dtype  \n",
      "---  ------          --------------  -----  \n",
      " 0   id              6 non-null      float64\n",
      " 1   type            6 non-null      object \n",
      " 2   app             6 non-null      object \n",
      " 3   module          6 non-null      object \n",
      " 4   message         6 non-null      object \n",
      " 5   DES             6 non-null      float64\n",
      " 6   DES.1           6 non-null      float64\n",
      " 7   TOPO            6 non-null      float64\n",
      " 8   TOPO.1          6 non-null      float64\n",
      " 9   module.1        6 non-null      object \n",
      " 10  service         6 non-null      float64\n",
      " 11  time_in         6 non-null      float64\n",
      " 12  time_out        6 non-null      float64\n",
      " 13  time_emit       6 non-null      float64\n",
      " 14  time_reception  6 non-null      float64\n",
      "dtypes: float64(10), object(5)\n",
      "memory usage: 1.5+ KB\n"
     ]
    }
   ],
   "source": [
    "placement_data.info()"
   ]
  },
  {
   "cell_type": "markdown",
   "id": "9b26628e",
   "metadata": {},
   "source": [
    "# describe data"
   ]
  },
  {
   "cell_type": "code",
   "execution_count": 5,
   "id": "ee78023f",
   "metadata": {},
   "outputs": [
    {
     "data": {
      "text/html": [
       "<div>\n",
       "<style scoped>\n",
       "    .dataframe tbody tr th:only-of-type {\n",
       "        vertical-align: middle;\n",
       "    }\n",
       "\n",
       "    .dataframe tbody tr th {\n",
       "        vertical-align: top;\n",
       "    }\n",
       "\n",
       "    .dataframe thead th {\n",
       "        text-align: right;\n",
       "    }\n",
       "</style>\n",
       "<table border=\"1\" class=\"dataframe\">\n",
       "  <thead>\n",
       "    <tr style=\"text-align: right;\">\n",
       "      <th></th>\n",
       "      <th>id</th>\n",
       "      <th>DES.src</th>\n",
       "      <th>DES.dst</th>\n",
       "      <th>TOPO.src</th>\n",
       "      <th>TOPO.dst</th>\n",
       "      <th>service</th>\n",
       "      <th>time_in</th>\n",
       "      <th>time_out</th>\n",
       "      <th>time_emit</th>\n",
       "      <th>time_reception</th>\n",
       "    </tr>\n",
       "  </thead>\n",
       "  <tbody>\n",
       "    <tr>\n",
       "      <th>count</th>\n",
       "      <td>6.000000</td>\n",
       "      <td>6.000000</td>\n",
       "      <td>6.000000</td>\n",
       "      <td>6.000000</td>\n",
       "      <td>6.0</td>\n",
       "      <td>6.000000</td>\n",
       "      <td>6.000000</td>\n",
       "      <td>6.000000</td>\n",
       "      <td>6.000000</td>\n",
       "      <td>6.000000</td>\n",
       "    </tr>\n",
       "    <tr>\n",
       "      <th>mean</th>\n",
       "      <td>2.166667</td>\n",
       "      <td>3.666667</td>\n",
       "      <td>6.666667</td>\n",
       "      <td>1.000000</td>\n",
       "      <td>0.0</td>\n",
       "      <td>145.833333</td>\n",
       "      <td>367.666911</td>\n",
       "      <td>513.500244</td>\n",
       "      <td>205.166789</td>\n",
       "      <td>305.167052</td>\n",
       "    </tr>\n",
       "    <tr>\n",
       "      <th>std</th>\n",
       "      <td>0.983192</td>\n",
       "      <td>3.011091</td>\n",
       "      <td>0.816497</td>\n",
       "      <td>1.264911</td>\n",
       "      <td>0.0</td>\n",
       "      <td>51.031036</td>\n",
       "      <td>102.062073</td>\n",
       "      <td>131.101106</td>\n",
       "      <td>228.263502</td>\n",
       "      <td>122.898866</td>\n",
       "    </tr>\n",
       "    <tr>\n",
       "      <th>min</th>\n",
       "      <td>1.000000</td>\n",
       "      <td>0.000000</td>\n",
       "      <td>6.000000</td>\n",
       "      <td>0.000000</td>\n",
       "      <td>0.0</td>\n",
       "      <td>125.000000</td>\n",
       "      <td>201.000244</td>\n",
       "      <td>326.000244</td>\n",
       "      <td>1.000000</td>\n",
       "      <td>201.000244</td>\n",
       "    </tr>\n",
       "    <tr>\n",
       "      <th>25%</th>\n",
       "      <td>1.250000</td>\n",
       "      <td>1.250000</td>\n",
       "      <td>6.000000</td>\n",
       "      <td>0.000000</td>\n",
       "      <td>0.0</td>\n",
       "      <td>125.000000</td>\n",
       "      <td>326.000244</td>\n",
       "      <td>451.000244</td>\n",
       "      <td>1.000000</td>\n",
       "      <td>201.000546</td>\n",
       "    </tr>\n",
       "    <tr>\n",
       "      <th>50%</th>\n",
       "      <td>2.500000</td>\n",
       "      <td>4.000000</td>\n",
       "      <td>6.500000</td>\n",
       "      <td>0.500000</td>\n",
       "      <td>0.0</td>\n",
       "      <td>125.000000</td>\n",
       "      <td>388.500244</td>\n",
       "      <td>513.500244</td>\n",
       "      <td>163.500122</td>\n",
       "      <td>263.500576</td>\n",
       "    </tr>\n",
       "    <tr>\n",
       "      <th>75%</th>\n",
       "      <td>3.000000</td>\n",
       "      <td>6.000000</td>\n",
       "      <td>7.000000</td>\n",
       "      <td>1.750000</td>\n",
       "      <td>0.0</td>\n",
       "      <td>125.000000</td>\n",
       "      <td>451.000244</td>\n",
       "      <td>576.000244</td>\n",
       "      <td>419.750244</td>\n",
       "      <td>419.750244</td>\n",
       "    </tr>\n",
       "    <tr>\n",
       "      <th>max</th>\n",
       "      <td>3.000000</td>\n",
       "      <td>7.000000</td>\n",
       "      <td>8.000000</td>\n",
       "      <td>3.000000</td>\n",
       "      <td>0.0</td>\n",
       "      <td>250.000000</td>\n",
       "      <td>451.000244</td>\n",
       "      <td>701.000244</td>\n",
       "      <td>451.000244</td>\n",
       "      <td>451.000244</td>\n",
       "    </tr>\n",
       "  </tbody>\n",
       "</table>\n",
       "</div>"
      ],
      "text/plain": [
       "             id   DES.src   DES.dst  TOPO.src  TOPO.dst     service  \\\n",
       "count  6.000000  6.000000  6.000000  6.000000       6.0    6.000000   \n",
       "mean   2.166667  3.666667  6.666667  1.000000       0.0  145.833333   \n",
       "std    0.983192  3.011091  0.816497  1.264911       0.0   51.031036   \n",
       "min    1.000000  0.000000  6.000000  0.000000       0.0  125.000000   \n",
       "25%    1.250000  1.250000  6.000000  0.000000       0.0  125.000000   \n",
       "50%    2.500000  4.000000  6.500000  0.500000       0.0  125.000000   \n",
       "75%    3.000000  6.000000  7.000000  1.750000       0.0  125.000000   \n",
       "max    3.000000  7.000000  8.000000  3.000000       0.0  250.000000   \n",
       "\n",
       "          time_in    time_out   time_emit  time_reception  \n",
       "count    6.000000    6.000000    6.000000        6.000000  \n",
       "mean   367.666911  513.500244  205.166789      305.167052  \n",
       "std    102.062073  131.101106  228.263502      122.898866  \n",
       "min    201.000244  326.000244    1.000000      201.000244  \n",
       "25%    326.000244  451.000244    1.000000      201.000546  \n",
       "50%    388.500244  513.500244  163.500122      263.500576  \n",
       "75%    451.000244  576.000244  419.750244      419.750244  \n",
       "max    451.000244  701.000244  451.000244      451.000244  "
      ]
     },
     "execution_count": 5,
     "metadata": {},
     "output_type": "execute_result"
    }
   ],
   "source": [
    "placement_data.describe()"
   ]
  },
  {
   "cell_type": "code",
   "execution_count": 10,
   "id": "be77cb51",
   "metadata": {},
   "outputs": [],
   "source": [
    "#ids\n",
    "id_data = placement_data ['id'].tolist()"
   ]
  },
  {
   "cell_type": "code",
   "execution_count": 33,
   "id": "b378ff5a",
   "metadata": {},
   "outputs": [
    {
     "data": {
      "text/plain": [
       "[nan, 3.0, nan, 1.0, nan, 3.0, nan, 2.0, nan, 1.0, nan, 3.0]"
      ]
     },
     "execution_count": 33,
     "metadata": {},
     "output_type": "execute_result"
    }
   ],
   "source": [
    "id_data"
   ]
  },
  {
   "cell_type": "code",
   "execution_count": 34,
   "id": "04bd4333",
   "metadata": {},
   "outputs": [],
   "source": [
    "id_data = [x for x in id_data if x != 'nan']"
   ]
  },
  {
   "cell_type": "code",
   "execution_count": 35,
   "id": "6a4eddcc",
   "metadata": {},
   "outputs": [
    {
     "data": {
      "text/plain": [
       "[nan, 3.0, nan, 1.0, nan, 3.0, nan, 2.0, nan, 1.0, nan, 3.0]"
      ]
     },
     "execution_count": 35,
     "metadata": {},
     "output_type": "execute_result"
    }
   ],
   "source": [
    "id_data"
   ]
  },
  {
   "cell_type": "markdown",
   "id": "4cce5d90",
   "metadata": {},
   "source": [
    "# time in and time out"
   ]
  },
  {
   "cell_type": "code",
   "execution_count": 36,
   "id": "7141b28e",
   "metadata": {},
   "outputs": [],
   "source": [
    "time_in = placement_data ['time_in'].tolist()"
   ]
  },
  {
   "cell_type": "code",
   "execution_count": 37,
   "id": "83b835f5",
   "metadata": {},
   "outputs": [
    {
     "data": {
      "text/plain": [
       "[nan,\n",
       " 201.0002439,\n",
       " nan,\n",
       " 326.0002439,\n",
       " nan,\n",
       " 326.0002439,\n",
       " nan,\n",
       " 451.0002439,\n",
       " nan,\n",
       " 451.0002439,\n",
       " nan,\n",
       " 451.0002439]"
      ]
     },
     "execution_count": 37,
     "metadata": {},
     "output_type": "execute_result"
    }
   ],
   "source": [
    "time"
   ]
  },
  {
   "cell_type": "code",
   "execution_count": 38,
   "id": "2e96a575",
   "metadata": {},
   "outputs": [],
   "source": [
    "time_out = placement_data ['time_out'].tolist()"
   ]
  },
  {
   "cell_type": "code",
   "execution_count": 48,
   "id": "d472056a",
   "metadata": {},
   "outputs": [
    {
     "data": {
      "image/png": "[encoded data removed]",
      "text/plain": [
       "<Figure size 432x288 with 1 Axes>"
      ]
     },
     "metadata": {
      "needs_background": "light"
     },
     "output_type": "display_data"
    }
   ],
   "source": [
    "plt.plot(time_in, time_out, color = 'red', marker = 'o')\n",
    "plt.title('time in VS time out', fontsize = 14)\n",
    "plt.xlabel('TIME IN', fontsize = 14)\n",
    "plt.ylabel ('TIME OUT', fontsize = 14)\n",
    "plt.grid(True)\n",
    "plt.show()"
   ]
  },
  {
   "cell_type": "code",
   "execution_count": 49,
   "id": "9a37a02a",
   "metadata": {},
   "outputs": [],
   "source": [
    "time_emit = placement_data ['time_emit'].tolist()"
   ]
  },
  {
   "cell_type": "code",
   "execution_count": 50,
   "id": "822c1a34",
   "metadata": {},
   "outputs": [],
   "source": [
    "time_reception = placement_data ['time_reception'].tolist()"
   ]
  },
  {
   "cell_type": "code",
   "execution_count": 53,
   "id": "f4701900",
   "metadata": {},
   "outputs": [
    {
     "data": {
      "image/png": "[encoded data removed]",
      "text/plain": [
       "<Figure size 432x288 with 1 Axes>"
      ]
     },
     "metadata": {
      "needs_background": "light"
     },
     "output_type": "display_data"
    }
   ],
   "source": [
    "plt.figure()\n",
    "plt.plot (time_emit, time_reception, color = 'red', marker = 'o')\n",
    "plt.xlabel('TIME EMITTED')\n",
    "plt.ylabel('TIME RECIEVED')\n",
    "plt.title('TIME EMITTED VS TIME RECIEVED')\n",
    "plt.grid(True)"
   ]
  },
  {
   "cell_type": "code",
   "execution_count": null,
   "id": "d0018178",
   "metadata": {},
   "outputs": [],
   "source": []
  }
 ],
 "metadata": {
  "kernelspec": {
   "display_name": "Python 3",
   "language": "python",
   "name": "python3"
  },
  "language_info": {
   "codemirror_mode": {
    "name": "ipython",
    "version": 3
   },
   "file_extension": ".py",
   "mimetype": "text/x-python",
   "name": "python",
   "nbconvert_exporter": "python",
   "pygments_lexer": "ipython3",
   "version": "3.8.8"
  }
 },
 "nbformat": 4,
 "nbformat_minor": 5
}
